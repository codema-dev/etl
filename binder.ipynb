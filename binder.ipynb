{
 "cells": [
  {
   "cell_type": "markdown",
   "metadata": {},
   "source": [
    "# Welcome to `codema-dev/projects` `Binder`!\n",
    "\n",
    "- Double click on the project you want to open\n",
    "\n",
    "- Right click on the `README.md` file, `Open With > Notebook` and run all cells"
   ]
  },
  {
   "cell_type": "markdown",
   "metadata": {},
   "source": [
    "![open-with-notebook.png](open-with-notebook.png)"
   ]
  },
  {
   "cell_type": "markdown",
   "metadata": {},
   "source": [
    "⚠️ If you have any problems please [open an issue](https://github.com/codema-dev/projects/issues) on our Github"
   ]
  },
  {
   "cell_type": "markdown",
   "metadata": {},
   "source": [
    "⚠️ If your task is stuck executing for >5 minutes this means that `binder` resource limits have been exceeded by this operation, please re-run the project locally"
   ]
  },
  {
   "cell_type": "markdown",
   "metadata": {},
   "source": [
    "> ❓ `Binder` runs this code in the cloud for free with the help of `NumFocus`, if you find this useful consider donating to them [here](https://numfocus.org/)"
   ]
  },
  {
   "cell_type": "markdown",
   "metadata": {},
   "source": [
    "> This link was generated using:\n",
    "> - `Binder` on https://jupyterhub.github.io/nbgitpuller/link.html\n",
    "> - environment repository = https://github.com/codema-dev/projects-sandbox \n",
    "> - content repository = https://github.com/codema-dev/projects-sandbox"
   ]
  }
 ],
 "metadata": {
  "language_info": {
   "name": "python"
  },
  "orig_nbformat": 4
 },
 "nbformat": 4,
 "nbformat_minor": 2
}
