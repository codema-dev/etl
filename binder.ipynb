{
 "cells": [
  {
   "cell_type": "markdown",
   "metadata": {},
   "source": [
    "# Welcome to `codema-dev/projects` `Binder`!\n",
    "\n",
    "- Double click on the project you want to open\n",
    "\n",
    "- Right click on the `README.md` file, `Open With > Notebook` and run all cells\n",
    "\n",
    "![open-with-notebook.png](open-with-notebook.png)\n",
    "\n",
    "> ❓ `Binder` runs this code in the cloud for free with the help of `NumFocus`, if you find this useful consider donating to them [here](https://numfocus.org/)\n",
    "\n",
    "<br>\n",
    "\n",
    "> This link was generated using:\n",
    "> - `Binder` on https://jupyterhub.github.io/nbgitpuller/link.html\n",
    "> - environment repository = https://github.com/codema-dev/projects-sandbox \n",
    "> - content repository = https://github.com/codema-dev/projects-sandbox"
   ]
  },
  {
   "cell_type": "markdown",
   "metadata": {},
   "source": []
  }
 ],
 "metadata": {
  "language_info": {
   "name": "python"
  },
  "orig_nbformat": 4
 },
 "nbformat": 4,
 "nbformat_minor": 2
}
